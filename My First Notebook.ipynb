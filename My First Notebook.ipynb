{
 "cells": [
  {
   "cell_type": "code",
   "execution_count": 11,
   "id": "27c89a76-1dc2-4c2a-82e5-902be25d681a",
   "metadata": {},
   "outputs": [
    {
     "name": "stdout",
     "output_type": "stream",
     "text": [
      "My Name is :  \" Saketh Papareddy \" \n"
     ]
    }
   ],
   "source": [
    "Name =' \" Saketh Papareddy \" '\n",
    "\n",
    "print(\"My Name is :\",Name)\n"
   ]
  },
  {
   "cell_type": "code",
   "execution_count": 12,
   "id": "9b2a28d3-2d93-44ad-b022-2cf4fa12c724",
   "metadata": {},
   "outputs": [
    {
     "name": "stdout",
     "output_type": "stream",
     "text": [
      "This is my first DL assignment\n"
     ]
    }
   ],
   "source": [
    "Assignment ='my first DL assignment'\n",
    "print(\"This is\",Assignment)"
   ]
  },
  {
   "cell_type": "code",
   "execution_count": null,
   "id": "98da19b4-4643-4352-b3b6-ce83921cf91c",
   "metadata": {},
   "outputs": [],
   "source": []
  }
 ],
 "metadata": {
  "kernelspec": {
   "display_name": "Python 3 (ipykernel)",
   "language": "python",
   "name": "python3"
  },
  "language_info": {
   "codemirror_mode": {
    "name": "ipython",
    "version": 3
   },
   "file_extension": ".py",
   "mimetype": "text/x-python",
   "name": "python",
   "nbconvert_exporter": "python",
   "pygments_lexer": "ipython3",
   "version": "3.10.0"
  }
 },
 "nbformat": 4,
 "nbformat_minor": 5
}
